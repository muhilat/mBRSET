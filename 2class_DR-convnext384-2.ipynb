import torch
import torch.nn as nn
import torch.optim as optim
from torch.utils.data import DataLoader
from torchvision import datasets, transforms
from timm import create_model

# Set device
device = torch.device("cuda" if torch.cuda.is_available() else "cpu")

# Define the data transformations and loaders
transform = transforms.Compose([
    transforms.Resize(224),
    transforms.CenterCrop(224),
    transforms.ToTensor(),
    transforms.Normalize(mean=[0.485, 0.456, 0.406], std=[0.229, 0.224, 0.225]),
])

train_dataset = datasets.ImageFolder(root='path_to_train_dataset', transform=transform)
train_loader = DataLoader(dataset=train_dataset, batch_size=32, shuffle=True)

val_dataset = datasets.ImageFolder(root='path_to_val_dataset', transform=transform)
val_loader = DataLoader(dataset=val_dataset, batch_size=32, shuffle=False)

# Define the Vision Transformer model
model = create_model('vit_base_patch16_224', pretrained=True, num_classes=2)
model = model.to(device)

# Define loss function and optimizer
criterion = nn.CrossEntropyLoss()
optimizer = optim.Adam(model.parameters(), lr=1e-4)

# Training function
def train(model, loader, criterion, optimizer, device):
    model.train()
    running_loss = 0.0
    for images, labels in loader:
        images, labels = images.to(device), labels.to(device)
        
        # Forward pass
        outputs = model(images)
        loss = criterion(outputs, labels)
        
        # Backward and optimize
        optimizer.zero_grad()
        loss.backward()
        optimizer.step()
        
        running_loss += loss.item()
    return running_loss / len(loader)

# Validation function
def validate(model, loader, criterion, device):
    model.eval()
    running_loss = 0.0
    correct = 0
    with torch.no_grad():
        for images, labels in loader:
            images, labels = images.to(device), labels.to(device)
            
            # Forward pass
            outputs = model(images)
            loss = criterion(outputs, labels)
            running_loss += loss.item()
            
            # Get predictions
            _, preds = torch.max(outputs, 1)
            correct += (preds == labels).sum().item()
    
    accuracy = 100 * correct / len(loader.dataset)
    return running_loss / len(loader), accuracy

# Training loop
num_epochs = 25
for epoch in range(num_epochs):
    train_loss = train(model, train_loader, criterion, optimizer, device)
    val_loss, val_accuracy = validate(model, val_loader, criterion, device)
    
    print(f"Epoch [{epoch+1}/{num_epochs}], "
          f"Train Loss: {train_loss:.4f}, "
          f"Validation Loss: {val_loss:.4f}, "
          f"Validation Accuracy: {val_accuracy:.2f}%")

# Save the model
torch.save(model.state_dict(), 'vit_model.pth')

# Test function (if you have a test set)
def test(model, loader, device):
    model.eval()
    correct = 0
    with torch.no_grad():
        for images, labels in loader:
            images, labels = images.to(device), labels.to(device)
            outputs = model(images)
            _, preds = torch.max(outputs, 1)
            correct += (preds == labels).sum().item()
    
    accuracy = 100 * correct / len(loader.dataset)
    print(f'Test Accuracy: {accuracy:.2f}%')

# Example: running test function
# test_loader = DataLoader(dataset=test_dataset, batch_size=32, shuffle=False)
# test(model, test_loader, device)
